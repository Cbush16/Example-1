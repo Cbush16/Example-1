{
 "cells": [
  {
   "cell_type": "code",
   "execution_count": 1,
   "id": "80bb9a7e-9a9f-4baf-8f53-01c0ba23b41d",
   "metadata": {
    "tags": []
   },
   "outputs": [],
   "source": [
    "import random"
   ]
  },
  {
   "cell_type": "code",
   "execution_count": 2,
   "id": "363a3b22-224e-45d6-98d1-dd40a47fa051",
   "metadata": {
    "tags": []
   },
   "outputs": [],
   "source": [
    "numbers = []\n",
    "for i in range(15):\n",
    "    numbers.append(random.randint(0,100))"
   ]
  },
  {
   "cell_type": "code",
   "execution_count": 3,
   "id": "75fbea80-c559-4347-94bb-bd4b05d95052",
   "metadata": {
    "tags": []
   },
   "outputs": [
    {
     "data": {
      "text/plain": [
       "[68, 94, 53, 23, 49, 4, 64, 61, 68, 77, 93, 42, 50, 40, 31]"
      ]
     },
     "execution_count": 3,
     "metadata": {},
     "output_type": "execute_result"
    }
   ],
   "source": [
    "numbers"
   ]
  },
  {
   "cell_type": "code",
   "execution_count": 4,
   "id": "a096f678-d59d-4243-9395-fd22fc31706a",
   "metadata": {
    "tags": []
   },
   "outputs": [],
   "source": [
    "names = ['James', 'Sally', 'George', 'Kristen', 'Alex', 'Melissa']"
   ]
  },
  {
   "cell_type": "markdown",
   "id": "e1b28edc-f328-4534-9a9f-b9579b542ef0",
   "metadata": {},
   "source": [
    "- J[0],A[1],M[2],E[3],S[4]\n",
    "- The numbers are called the index"
   ]
  },
  {
   "cell_type": "code",
   "execution_count": 5,
   "id": "0022c3cd-3b73-4d41-9ebf-d76658c858d7",
   "metadata": {
    "tags": []
   },
   "outputs": [
    {
     "data": {
      "text/plain": [
       "'James'"
      ]
     },
     "execution_count": 5,
     "metadata": {},
     "output_type": "execute_result"
    }
   ],
   "source": [
    "names[0]"
   ]
  },
  {
   "cell_type": "code",
   "execution_count": 6,
   "id": "96f22535-f1a5-423f-a64a-45b071d0075c",
   "metadata": {
    "tags": []
   },
   "outputs": [
    {
     "data": {
      "text/plain": [
       "[68, 94, 53, 23, 49, 4, 64, 61, 68, 77, 93, 42, 50, 40, 31]"
      ]
     },
     "execution_count": 6,
     "metadata": {},
     "output_type": "execute_result"
    }
   ],
   "source": [
    "numbers"
   ]
  },
  {
   "cell_type": "code",
   "execution_count": 7,
   "id": "a48bec53-e3b0-4b04-9adb-a766b39f952e",
   "metadata": {
    "tags": []
   },
   "outputs": [
    {
     "data": {
      "text/plain": [
       "31"
      ]
     },
     "execution_count": 7,
     "metadata": {},
     "output_type": "execute_result"
    }
   ],
   "source": [
    "numbers[-1] #use this to find last number in a list"
   ]
  },
  {
   "cell_type": "code",
   "execution_count": 8,
   "id": "e33d012f-4174-4c5f-8e3f-a9b52a3e992c",
   "metadata": {
    "tags": []
   },
   "outputs": [
    {
     "data": {
      "text/plain": [
       "6"
      ]
     },
     "execution_count": 8,
     "metadata": {},
     "output_type": "execute_result"
    }
   ],
   "source": [
    "len(names)"
   ]
  },
  {
   "cell_type": "markdown",
   "id": "c66c4ddb-4457-497e-97b9-839781b076a6",
   "metadata": {},
   "source": [
    "To find length of list or string use len(...)"
   ]
  },
  {
   "cell_type": "code",
   "execution_count": 9,
   "id": "1d552329-f7c9-4c2f-b8d9-894c588ab02b",
   "metadata": {
    "tags": []
   },
   "outputs": [],
   "source": [
    "numbers[5] = 134"
   ]
  },
  {
   "cell_type": "code",
   "execution_count": 10,
   "id": "99dfde55-2fcc-493f-96db-3e7834c52fa0",
   "metadata": {
    "tags": []
   },
   "outputs": [],
   "source": [
    "names[0] = 'John'"
   ]
  },
  {
   "cell_type": "code",
   "execution_count": 11,
   "id": "6bc14b2a-1cd8-40fb-a120-a9f2fc131cab",
   "metadata": {
    "tags": []
   },
   "outputs": [
    {
     "data": {
      "text/plain": [
       "['John', 'Sally', 'George', 'Kristen', 'Alex', 'Melissa']"
      ]
     },
     "execution_count": 11,
     "metadata": {},
     "output_type": "execute_result"
    }
   ],
   "source": [
    "names"
   ]
  },
  {
   "cell_type": "code",
   "execution_count": 12,
   "id": "c1633b75-49cf-4477-89cd-00605941b3a9",
   "metadata": {
    "tags": []
   },
   "outputs": [],
   "source": [
    "age = 10"
   ]
  },
  {
   "cell_type": "code",
   "execution_count": 13,
   "id": "ea9487bd-a21c-4c70-9d97-1dd56cb0f061",
   "metadata": {
    "tags": []
   },
   "outputs": [],
   "source": [
    "age+=1"
   ]
  },
  {
   "cell_type": "code",
   "execution_count": 14,
   "id": "3fafb1c4-5c87-4404-8db9-2a6c9d392372",
   "metadata": {
    "tags": []
   },
   "outputs": [
    {
     "data": {
      "text/plain": [
       "11"
      ]
     },
     "execution_count": 14,
     "metadata": {},
     "output_type": "execute_result"
    }
   ],
   "source": [
    "age"
   ]
  },
  {
   "cell_type": "code",
   "execution_count": 15,
   "id": "970918aa-de3b-46f7-9f3c-4ec1f7fb9d11",
   "metadata": {
    "tags": []
   },
   "outputs": [],
   "source": [
    "numbers.append(110)"
   ]
  },
  {
   "cell_type": "code",
   "execution_count": 16,
   "id": "e72b8642-9ba0-4888-ac54-516c1f39b407",
   "metadata": {
    "tags": []
   },
   "outputs": [],
   "source": [
    "numbers + names;"
   ]
  },
  {
   "cell_type": "code",
   "execution_count": 17,
   "id": "427ccfd8-c151-47b8-92cf-407177cb30a4",
   "metadata": {
    "tags": []
   },
   "outputs": [
    {
     "data": {
      "text/plain": [
       "[68, 94, 53, 23, 49, 134, 64, 61, 68, 77, 93, 42, 50, 40, 31, 110]"
      ]
     },
     "execution_count": 17,
     "metadata": {},
     "output_type": "execute_result"
    }
   ],
   "source": [
    "numbers"
   ]
  },
  {
   "cell_type": "code",
   "execution_count": 18,
   "id": "abeef5b0-4fa0-4d45-9e91-77bee3f60684",
   "metadata": {
    "tags": []
   },
   "outputs": [
    {
     "data": {
      "text/plain": [
       "[49, 134, 64, 61]"
      ]
     },
     "execution_count": 18,
     "metadata": {},
     "output_type": "execute_result"
    }
   ],
   "source": [
    "numbers[4:8]"
   ]
  },
  {
   "cell_type": "code",
   "execution_count": 19,
   "id": "cbc90196-dd4f-4d34-9e2e-9975eb3c2685",
   "metadata": {
    "tags": []
   },
   "outputs": [
    {
     "data": {
      "text/plain": [
       "[61, 68, 77, 93, 42, 50, 40, 31, 110]"
      ]
     },
     "execution_count": 19,
     "metadata": {},
     "output_type": "execute_result"
    }
   ],
   "source": [
    "numbers[7:]"
   ]
  },
  {
   "cell_type": "markdown",
   "id": "58445354-dd84-4c09-b29d-103ce16ed6be",
   "metadata": {},
   "source": [
    "Use 4:8 to find range from 4-7 in list |||\n",
    "Use 7: to find 7 to end and :7 to find 7 to beginning"
   ]
  },
  {
   "cell_type": "code",
   "execution_count": 20,
   "id": "7619ef69-08e9-4534-8c17-284015ef3578",
   "metadata": {
    "tags": []
   },
   "outputs": [
    {
     "data": {
      "text/plain": [
       "[49, 64, 68, 93, 50, 31]"
      ]
     },
     "execution_count": 20,
     "metadata": {},
     "output_type": "execute_result"
    }
   ],
   "source": [
    "numbers[4:15:2]"
   ]
  },
  {
   "cell_type": "markdown",
   "id": "2fae3bb4-ea81-4517-a1cd-8db8ee2f3a22",
   "metadata": {},
   "source": [
    "This gives every other element since using 2"
   ]
  },
  {
   "cell_type": "code",
   "execution_count": 21,
   "id": "561c73f8-fbbd-4208-bdb6-3c779848bf7a",
   "metadata": {
    "tags": []
   },
   "outputs": [
    {
     "data": {
      "text/plain": [
       "[50, 40, 31, 110]"
      ]
     },
     "execution_count": 21,
     "metadata": {},
     "output_type": "execute_result"
    }
   ],
   "source": [
    "numbers[-4:]"
   ]
  },
  {
   "cell_type": "markdown",
   "id": "0c1e2bc3-35e4-4214-9f1c-33f11ad61761",
   "metadata": {},
   "source": [
    "This gives last 4 numbers"
   ]
  },
  {
   "cell_type": "code",
   "execution_count": 22,
   "id": "8f0cad99-5f6a-41af-879a-58caf995004f",
   "metadata": {
    "tags": []
   },
   "outputs": [
    {
     "data": {
      "text/plain": [
       "['John', 'Sally', 'George', 'Kristen', 'Alex', 'Melissa']"
      ]
     },
     "execution_count": 22,
     "metadata": {},
     "output_type": "execute_result"
    }
   ],
   "source": [
    "names"
   ]
  },
  {
   "cell_type": "code",
   "execution_count": 23,
   "id": "4ff4ac94-ff90-4c4e-b6a5-99f46c15c9a7",
   "metadata": {
    "tags": []
   },
   "outputs": [
    {
     "data": {
      "text/plain": [
       "['George', 'Kristen']"
      ]
     },
     "execution_count": 23,
     "metadata": {},
     "output_type": "execute_result"
    }
   ],
   "source": [
    "names[2:4]"
   ]
  },
  {
   "cell_type": "code",
   "execution_count": 24,
   "id": "0d837822-1faa-445f-9505-28ebb0e36a9d",
   "metadata": {
    "tags": []
   },
   "outputs": [
    {
     "data": {
      "text/plain": [
       "['John', 'Sally', 'George', 'Kristen', 'Alex', 'Melissa']"
      ]
     },
     "execution_count": 24,
     "metadata": {},
     "output_type": "execute_result"
    }
   ],
   "source": [
    "names"
   ]
  },
  {
   "cell_type": "code",
   "execution_count": 25,
   "id": "5b8e5355-7889-4ac6-914b-3621aa07dff1",
   "metadata": {
    "tags": []
   },
   "outputs": [],
   "source": [
    "names[2:] = [\"Chris\", \"Paul\", \"Ben\"]"
   ]
  },
  {
   "cell_type": "code",
   "execution_count": 26,
   "id": "910a1139-069e-4fed-a121-a475acad6052",
   "metadata": {
    "tags": []
   },
   "outputs": [
    {
     "data": {
      "text/plain": [
       "['John', 'Sally', 'Chris', 'Paul', 'Ben']"
      ]
     },
     "execution_count": 26,
     "metadata": {},
     "output_type": "execute_result"
    }
   ],
   "source": [
    "names"
   ]
  },
  {
   "cell_type": "code",
   "execution_count": 27,
   "id": "f0184595-abb8-4aec-8493-af25b1ecee9e",
   "metadata": {
    "tags": []
   },
   "outputs": [],
   "source": [
    "names[-1] = \"Greg\""
   ]
  },
  {
   "cell_type": "code",
   "execution_count": 28,
   "id": "bea0f246-1d55-4f9a-a2c2-c5a2ecd9b21e",
   "metadata": {
    "tags": []
   },
   "outputs": [
    {
     "data": {
      "text/plain": [
       "['John', 'Sally', 'Chris', 'Paul', 'Greg']"
      ]
     },
     "execution_count": 28,
     "metadata": {},
     "output_type": "execute_result"
    }
   ],
   "source": [
    "names"
   ]
  },
  {
   "cell_type": "code",
   "execution_count": 29,
   "id": "f6b4f59b-fe2d-40b9-a68e-a1d5716f91a4",
   "metadata": {
    "tags": []
   },
   "outputs": [
    {
     "data": {
      "text/plain": [
       "5"
      ]
     },
     "execution_count": 29,
     "metadata": {},
     "output_type": "execute_result"
    }
   ],
   "source": [
    "len(names)"
   ]
  },
  {
   "cell_type": "code",
   "execution_count": 30,
   "id": "3685e3c2-480b-46a3-84be-30b7ba6610f7",
   "metadata": {
    "tags": []
   },
   "outputs": [],
   "source": [
    "del names[-1]"
   ]
  },
  {
   "cell_type": "code",
   "execution_count": 31,
   "id": "8e4fdc7d-9190-4620-9f04-db17aa2b283d",
   "metadata": {
    "tags": []
   },
   "outputs": [
    {
     "data": {
      "text/plain": [
       "['John', 'Sally', 'Chris', 'Paul']"
      ]
     },
     "execution_count": 31,
     "metadata": {},
     "output_type": "execute_result"
    }
   ],
   "source": [
    "names"
   ]
  },
  {
   "cell_type": "code",
   "execution_count": 32,
   "id": "1339acd1-f803-433c-beda-857b2267b2a3",
   "metadata": {},
   "outputs": [
    {
     "data": {
      "text/plain": [
       "[23, 31, 40, 42, 49, 50, 53, 61, 64, 68, 68, 77, 93, 94, 110, 134]"
      ]
     },
     "execution_count": 32,
     "metadata": {},
     "output_type": "execute_result"
    }
   ],
   "source": [
    "sorted(numbers)"
   ]
  },
  {
   "cell_type": "code",
   "execution_count": 33,
   "id": "63d141f7-01c0-4978-acd9-574dea6e55ac",
   "metadata": {
    "tags": []
   },
   "outputs": [],
   "source": [
    "sorted_numbers = sorted(numbers)"
   ]
  },
  {
   "cell_type": "code",
   "execution_count": 34,
   "id": "e83f4312-28da-4e77-bbe5-d8c43e21ef7a",
   "metadata": {
    "tags": []
   },
   "outputs": [],
   "source": [
    "numbers.sort()"
   ]
  },
  {
   "cell_type": "code",
   "execution_count": 35,
   "id": "08e15b58-bc48-46f9-866e-e017a9017f76",
   "metadata": {
    "tags": []
   },
   "outputs": [
    {
     "data": {
      "text/plain": [
       "[23, 31, 40, 42, 49, 50, 53, 61, 64, 68, 68, 77, 93, 94, 110, 134]"
      ]
     },
     "execution_count": 35,
     "metadata": {},
     "output_type": "execute_result"
    }
   ],
   "source": [
    "numbers"
   ]
  },
  {
   "cell_type": "code",
   "execution_count": 36,
   "id": "0e05805b-5142-4e4c-bd9b-409820846cc0",
   "metadata": {
    "tags": []
   },
   "outputs": [],
   "source": [
    "numbers.sort(reverse = True)"
   ]
  },
  {
   "cell_type": "code",
   "execution_count": 37,
   "id": "8419c5b1-1a4c-47c6-a7fb-d101b5558b2e",
   "metadata": {
    "tags": []
   },
   "outputs": [
    {
     "data": {
      "text/plain": [
       "[134, 110, 94, 93, 77, 68, 68, 64, 61, 53, 50, 49, 42, 40, 31, 23]"
      ]
     },
     "execution_count": 37,
     "metadata": {},
     "output_type": "execute_result"
    }
   ],
   "source": [
    "numbers"
   ]
  },
  {
   "cell_type": "code",
   "execution_count": 38,
   "id": "481db554-48fd-4058-8493-e7bd7ba21e3c",
   "metadata": {
    "tags": []
   },
   "outputs": [],
   "source": [
    "numbers.sort()"
   ]
  },
  {
   "cell_type": "code",
   "execution_count": 39,
   "id": "559b7dc9-c186-4703-8933-2c5cd2ff86af",
   "metadata": {
    "tags": []
   },
   "outputs": [],
   "source": [
    "numbers = [7, 13, 22, 53, 54, 63, 64, 71, 73, 84]"
   ]
  },
  {
   "cell_type": "code",
   "execution_count": 40,
   "id": "af1fdc8f-4abd-4ceb-9faa-09233de9a091",
   "metadata": {
    "tags": []
   },
   "outputs": [
    {
     "data": {
      "text/plain": [
       "[7, 13, 22, 53, 54, 63, 64, 71, 73, 84]"
      ]
     },
     "execution_count": 40,
     "metadata": {},
     "output_type": "execute_result"
    }
   ],
   "source": [
    "numbers"
   ]
  },
  {
   "cell_type": "code",
   "execution_count": 41,
   "id": "d067a075-cf5a-4421-ab9a-304ee225b7d9",
   "metadata": {
    "tags": []
   },
   "outputs": [
    {
     "data": {
      "text/plain": [
       "7"
      ]
     },
     "execution_count": 41,
     "metadata": {},
     "output_type": "execute_result"
    }
   ],
   "source": [
    "numbers.index(71)"
   ]
  },
  {
   "cell_type": "code",
   "execution_count": 42,
   "id": "5bef59ca-8532-4c23-b52c-1000fb7c575f",
   "metadata": {
    "tags": []
   },
   "outputs": [
    {
     "data": {
      "text/plain": [
       "True"
      ]
     },
     "execution_count": 42,
     "metadata": {},
     "output_type": "execute_result"
    }
   ],
   "source": [
    "64 in numbers"
   ]
  },
  {
   "cell_type": "code",
   "execution_count": 43,
   "id": "0fad630a-e9fb-47f5-bb7a-a61be33fe458",
   "metadata": {
    "tags": []
   },
   "outputs": [],
   "source": [
    "squares = [number**2 for number in numbers]"
   ]
  },
  {
   "cell_type": "code",
   "execution_count": 44,
   "id": "ba3c4818-a6bf-4b5f-a53d-0e9087a54496",
   "metadata": {
    "tags": []
   },
   "outputs": [
    {
     "data": {
      "text/plain": [
       "[49, 169, 484, 2809, 2916, 3969, 4096, 5041, 5329, 7056]"
      ]
     },
     "execution_count": 44,
     "metadata": {},
     "output_type": "execute_result"
    }
   ],
   "source": [
    "squares"
   ]
  },
  {
   "cell_type": "code",
   "execution_count": 45,
   "id": "be6e5318-3e63-49d0-ab9c-e2a4f22856ee",
   "metadata": {
    "tags": []
   },
   "outputs": [
    {
     "data": {
      "text/plain": [
       "[4, 5, 5, 4]"
      ]
     },
     "execution_count": 45,
     "metadata": {},
     "output_type": "execute_result"
    }
   ],
   "source": [
    "[len(name) for name in names]"
   ]
  },
  {
   "cell_type": "code",
   "execution_count": 46,
   "id": "53ee6e30-e1ae-467f-8c5b-5ca9cc6b8df8",
   "metadata": {
    "tags": []
   },
   "outputs": [
    {
     "name": "stdout",
     "output_type": "stream",
     "text": [
      "John\n",
      "Sally\n",
      "Chris\n",
      "Paul\n"
     ]
    },
    {
     "data": {
      "text/plain": [
       "[None, None, None, None]"
      ]
     },
     "execution_count": 46,
     "metadata": {},
     "output_type": "execute_result"
    }
   ],
   "source": [
    "[print(name) for name in names]"
   ]
  },
  {
   "cell_type": "code",
   "execution_count": 47,
   "id": "85852dd9-bbc8-44ee-b100-0d7a58bbb848",
   "metadata": {
    "tags": []
   },
   "outputs": [],
   "source": [
    "numbers = []\n",
    "for i in range(20):\n",
    "    numbers.append(random.randint(0,10))"
   ]
  },
  {
   "cell_type": "code",
   "execution_count": 48,
   "id": "061eaa58-84ea-4938-96a9-1baf364193e5",
   "metadata": {
    "tags": []
   },
   "outputs": [],
   "source": [
    "numbers = []\n",
    "for i in range(20):\n",
    "    numbers.append(random.randint(0,10))"
   ]
  },
  {
   "cell_type": "code",
   "execution_count": 49,
   "id": "2b8a424f-1fb4-460c-b5e8-b68c2673247e",
   "metadata": {
    "tags": []
   },
   "outputs": [],
   "source": [
    "numbers2 =[random.randrange(1,10,1) for i  in range(10)]"
   ]
  },
  {
   "cell_type": "code",
   "execution_count": 50,
   "id": "23bce569-1e8d-4d20-bca1-486111af7782",
   "metadata": {
    "tags": []
   },
   "outputs": [
    {
     "data": {
      "text/plain": [
       "[6, 4, 6, 9, 9, 5, 8, 9, 1, 4]"
      ]
     },
     "execution_count": 50,
     "metadata": {},
     "output_type": "execute_result"
    }
   ],
   "source": [
    "numbers2"
   ]
  },
  {
   "cell_type": "code",
   "execution_count": 51,
   "id": "41f72b91-8342-4dc8-96b3-ced01532df89",
   "metadata": {
    "tags": []
   },
   "outputs": [
    {
     "data": {
      "text/plain": [
       "True"
      ]
     },
     "execution_count": 51,
     "metadata": {},
     "output_type": "execute_result"
    }
   ],
   "source": [
    "all(number>0 for number in numbers2)"
   ]
  },
  {
   "cell_type": "code",
   "execution_count": 52,
   "id": "9ca984b1-83b9-4d7d-9e3b-612c6e6d669b",
   "metadata": {
    "tags": []
   },
   "outputs": [
    {
     "data": {
      "text/plain": [
       "['__add__',\n",
       " '__class__',\n",
       " '__class_getitem__',\n",
       " '__contains__',\n",
       " '__delattr__',\n",
       " '__delitem__',\n",
       " '__dir__',\n",
       " '__doc__',\n",
       " '__eq__',\n",
       " '__format__',\n",
       " '__ge__',\n",
       " '__getattribute__',\n",
       " '__getitem__',\n",
       " '__getstate__',\n",
       " '__gt__',\n",
       " '__hash__',\n",
       " '__iadd__',\n",
       " '__imul__',\n",
       " '__init__',\n",
       " '__init_subclass__',\n",
       " '__iter__',\n",
       " '__le__',\n",
       " '__len__',\n",
       " '__lt__',\n",
       " '__mul__',\n",
       " '__ne__',\n",
       " '__new__',\n",
       " '__reduce__',\n",
       " '__reduce_ex__',\n",
       " '__repr__',\n",
       " '__reversed__',\n",
       " '__rmul__',\n",
       " '__setattr__',\n",
       " '__setitem__',\n",
       " '__sizeof__',\n",
       " '__str__',\n",
       " '__subclasshook__',\n",
       " 'append',\n",
       " 'clear',\n",
       " 'copy',\n",
       " 'count',\n",
       " 'extend',\n",
       " 'index',\n",
       " 'insert',\n",
       " 'pop',\n",
       " 'remove',\n",
       " 'reverse',\n",
       " 'sort']"
      ]
     },
     "execution_count": 52,
     "metadata": {},
     "output_type": "execute_result"
    }
   ],
   "source": [
    "dir(numbers)"
   ]
  },
  {
   "cell_type": "code",
   "execution_count": 53,
   "id": "5bb789b8-def3-4959-abdb-1a80130a8142",
   "metadata": {
    "tags": []
   },
   "outputs": [],
   "source": [
    "a = 10\n",
    "b = a"
   ]
  },
  {
   "cell_type": "code",
   "execution_count": 54,
   "id": "7bf4d531-effe-4b6a-8ae5-8b53389e209b",
   "metadata": {
    "tags": []
   },
   "outputs": [
    {
     "name": "stdout",
     "output_type": "stream",
     "text": [
      "10 10\n"
     ]
    }
   ],
   "source": [
    "print(a,b)"
   ]
  },
  {
   "cell_type": "code",
   "execution_count": 55,
   "id": "f95c2d71-a4ba-4cbf-bb58-782e58ee237b",
   "metadata": {
    "tags": []
   },
   "outputs": [],
   "source": [
    "n2 = numbers"
   ]
  },
  {
   "cell_type": "code",
   "execution_count": 56,
   "id": "960217a1-7595-4314-b039-bb9da8b65d5d",
   "metadata": {
    "tags": []
   },
   "outputs": [
    {
     "name": "stdout",
     "output_type": "stream",
     "text": [
      "[1, 7, 2, 6, 4, 8, 9, 8, 0, 9, 0, 7, 9, 8, 7, 7, 9, 10, 7, 6] [1, 7, 2, 6, 4, 8, 9, 8, 0, 9, 0, 7, 9, 8, 7, 7, 9, 10, 7, 6]\n"
     ]
    }
   ],
   "source": [
    "print(numbers,n2)"
   ]
  },
  {
   "cell_type": "code",
   "execution_count": 57,
   "id": "18e88b83-b588-411c-9eaf-8bee7fdecdcd",
   "metadata": {},
   "outputs": [],
   "source": [
    "list1 = [1,2,3,4,5,6,7,8,9]"
   ]
  },
  {
   "cell_type": "code",
   "execution_count": 58,
   "id": "da1db3a0-9bc2-4487-8b08-32d9a97c9c0c",
   "metadata": {
    "tags": []
   },
   "outputs": [],
   "source": [
    "#dir(list)"
   ]
  },
  {
   "cell_type": "code",
   "execution_count": 59,
   "id": "37a6ca87-fdb2-433f-ae28-05661ba64ad4",
   "metadata": {
    "tags": []
   },
   "outputs": [],
   "source": [
    "# functions in a class are called methods"
   ]
  },
  {
   "cell_type": "code",
   "execution_count": 60,
   "id": "49bd2bb1-ec83-4cc0-8697-969b843f4da2",
   "metadata": {
    "tags": []
   },
   "outputs": [],
   "source": [
    "#Methods consist of functions"
   ]
  },
  {
   "cell_type": "code",
   "execution_count": 61,
   "id": "3a8a4a84-24d8-48af-b8d8-56aa8c388740",
   "metadata": {},
   "outputs": [],
   "source": [
    "#Classes have behaviors and attributes. Behaviors are methods"
   ]
  },
  {
   "cell_type": "code",
   "execution_count": 62,
   "id": "c64e512a-7b3f-49dc-a414-6550254c7446",
   "metadata": {
    "tags": []
   },
   "outputs": [],
   "source": [
    "list2 = list1"
   ]
  },
  {
   "cell_type": "code",
   "execution_count": 63,
   "id": "e69a01f4-465a-4045-8ff1-c7e0922f8994",
   "metadata": {
    "tags": []
   },
   "outputs": [],
   "source": [
    "list2[5]=10"
   ]
  },
  {
   "cell_type": "code",
   "execution_count": 64,
   "id": "dfbad3ce-a668-4aad-b771-5358c489983f",
   "metadata": {
    "tags": []
   },
   "outputs": [
    {
     "data": {
      "text/plain": [
       "[1, 2, 3, 4, 5, 10, 7, 8, 9]"
      ]
     },
     "execution_count": 64,
     "metadata": {},
     "output_type": "execute_result"
    }
   ],
   "source": [
    "list2"
   ]
  },
  {
   "cell_type": "code",
   "execution_count": 65,
   "id": "87fce3af-797c-43a1-8f20-5deff8eca88f",
   "metadata": {
    "tags": []
   },
   "outputs": [
    {
     "data": {
      "text/plain": [
       "[1, 2, 3, 4, 5, 10, 7, 8, 9]"
      ]
     },
     "execution_count": 65,
     "metadata": {},
     "output_type": "execute_result"
    }
   ],
   "source": [
    "list1"
   ]
  },
  {
   "cell_type": "code",
   "execution_count": 66,
   "id": "cfed71eb-033e-4edc-972a-adcf4004533b",
   "metadata": {
    "tags": []
   },
   "outputs": [],
   "source": [
    "list3 = list1.copy()"
   ]
  },
  {
   "cell_type": "code",
   "execution_count": 67,
   "id": "80a01a80-3a19-4fcc-8c3a-6a5718318daf",
   "metadata": {
    "tags": []
   },
   "outputs": [],
   "source": [
    "list3[0]=10"
   ]
  },
  {
   "cell_type": "code",
   "execution_count": 68,
   "id": "7bacd419-87a5-45c1-9ed3-81c2d49af98d",
   "metadata": {
    "tags": []
   },
   "outputs": [
    {
     "data": {
      "text/plain": [
       "[1, 2, 3, 4, 5, 10, 7, 8, 9]"
      ]
     },
     "execution_count": 68,
     "metadata": {},
     "output_type": "execute_result"
    }
   ],
   "source": [
    "list1"
   ]
  },
  {
   "cell_type": "code",
   "execution_count": 69,
   "id": "dcdad736-90f4-4ca8-b77c-84da64deb133",
   "metadata": {
    "tags": []
   },
   "outputs": [
    {
     "data": {
      "text/plain": [
       "[10, 2, 3, 4, 5, 10, 7, 8, 9]"
      ]
     },
     "execution_count": 69,
     "metadata": {},
     "output_type": "execute_result"
    }
   ],
   "source": [
    "list3"
   ]
  },
  {
   "cell_type": "code",
   "execution_count": 70,
   "id": "b55eae40-809c-46e3-9ea4-5f011187a868",
   "metadata": {
    "tags": []
   },
   "outputs": [],
   "source": [
    "#dir(list1)"
   ]
  },
  {
   "cell_type": "code",
   "execution_count": 71,
   "id": "09b82217-b2e5-4ca2-9da8-ec54055a9139",
   "metadata": {
    "tags": []
   },
   "outputs": [
    {
     "data": {
      "text/plain": [
       "\u001b[1;31mSignature:\u001b[0m \u001b[0mnumbers\u001b[0m\u001b[1;33m.\u001b[0m\u001b[0msort\u001b[0m\u001b[1;33m(\u001b[0m\u001b[1;33m*\u001b[0m\u001b[1;33m,\u001b[0m \u001b[0mkey\u001b[0m\u001b[1;33m=\u001b[0m\u001b[1;32mNone\u001b[0m\u001b[1;33m,\u001b[0m \u001b[0mreverse\u001b[0m\u001b[1;33m=\u001b[0m\u001b[1;32mFalse\u001b[0m\u001b[1;33m)\u001b[0m\u001b[1;33m\u001b[0m\u001b[1;33m\u001b[0m\u001b[0m\n",
       "\u001b[1;31mDocstring:\u001b[0m\n",
       "Sort the list in ascending order and return None.\n",
       "\n",
       "The sort is in-place (i.e. the list itself is modified) and stable (i.e. the\n",
       "order of two equal elements is maintained).\n",
       "\n",
       "If a key function is given, apply it once to each list item and sort them,\n",
       "ascending or descending, according to their function values.\n",
       "\n",
       "The reverse flag can be set to sort in descending order.\n",
       "\u001b[1;31mType:\u001b[0m      builtin_function_or_method"
      ]
     },
     "metadata": {},
     "output_type": "display_data"
    }
   ],
   "source": [
    "numbers.sort?"
   ]
  },
  {
   "cell_type": "code",
   "execution_count": 72,
   "id": "ce759b29-1301-464e-812d-afd7097f23a7",
   "metadata": {
    "tags": []
   },
   "outputs": [],
   "source": [
    "# _.sort changes list forever"
   ]
  },
  {
   "cell_type": "code",
   "execution_count": 73,
   "id": "11cba837-cbce-4c7b-9967-66ad4beb5273",
   "metadata": {
    "tags": []
   },
   "outputs": [
    {
     "data": {
      "text/plain": [
       "\u001b[1;31mSignature:\u001b[0m \u001b[0mnumbers\u001b[0m\u001b[1;33m.\u001b[0m\u001b[0mreverse\u001b[0m\u001b[1;33m(\u001b[0m\u001b[1;33m)\u001b[0m\u001b[1;33m\u001b[0m\u001b[1;33m\u001b[0m\u001b[0m\n",
       "\u001b[1;31mDocstring:\u001b[0m Reverse *IN PLACE*.\n",
       "\u001b[1;31mType:\u001b[0m      builtin_function_or_method"
      ]
     },
     "metadata": {},
     "output_type": "display_data"
    }
   ],
   "source": [
    "numbers.reverse?"
   ]
  },
  {
   "cell_type": "code",
   "execution_count": 74,
   "id": "50e87821-c678-4d25-a97e-501ce6fc2318",
   "metadata": {
    "tags": []
   },
   "outputs": [],
   "source": [
    "# .append adds to end of list"
   ]
  },
  {
   "cell_type": "code",
   "execution_count": 75,
   "id": "1d566fe0-55ef-4361-a178-71f98864d183",
   "metadata": {
    "tags": []
   },
   "outputs": [
    {
     "data": {
      "text/plain": [
       "\u001b[1;31mSignature:\u001b[0m \u001b[0mnumbers\u001b[0m\u001b[1;33m.\u001b[0m\u001b[0mextend\u001b[0m\u001b[1;33m(\u001b[0m\u001b[0miterable\u001b[0m\u001b[1;33m,\u001b[0m \u001b[1;33m/\u001b[0m\u001b[1;33m)\u001b[0m\u001b[1;33m\u001b[0m\u001b[1;33m\u001b[0m\u001b[0m\n",
       "\u001b[1;31mDocstring:\u001b[0m Extend list by appending elements from the iterable.\n",
       "\u001b[1;31mType:\u001b[0m      builtin_function_or_method"
      ]
     },
     "metadata": {},
     "output_type": "display_data"
    }
   ],
   "source": [
    "numbers.extend?"
   ]
  },
  {
   "cell_type": "code",
   "execution_count": 76,
   "id": "b62103b9-5fc6-4725-bbd0-4f35567cb4fe",
   "metadata": {
    "tags": []
   },
   "outputs": [
    {
     "data": {
      "text/plain": [
       "\u001b[1;31mSignature:\u001b[0m \u001b[0mnumbers\u001b[0m\u001b[1;33m.\u001b[0m\u001b[0mpop\u001b[0m\u001b[1;33m(\u001b[0m\u001b[0mindex\u001b[0m\u001b[1;33m=\u001b[0m\u001b[1;33m-\u001b[0m\u001b[1;36m1\u001b[0m\u001b[1;33m,\u001b[0m \u001b[1;33m/\u001b[0m\u001b[1;33m)\u001b[0m\u001b[1;33m\u001b[0m\u001b[1;33m\u001b[0m\u001b[0m\n",
       "\u001b[1;31mDocstring:\u001b[0m\n",
       "Remove and return item at index (default last).\n",
       "\n",
       "Raises IndexError if list is empty or index is out of range.\n",
       "\u001b[1;31mType:\u001b[0m      builtin_function_or_method"
      ]
     },
     "metadata": {},
     "output_type": "display_data"
    }
   ],
   "source": [
    "numbers.pop?"
   ]
  },
  {
   "cell_type": "code",
   "execution_count": 77,
   "id": "30d370ae-fc2d-4f3a-890b-73b47b4472fd",
   "metadata": {
    "tags": []
   },
   "outputs": [],
   "source": [
    "# .pop removes from end of list"
   ]
  },
  {
   "cell_type": "code",
   "execution_count": 78,
   "id": "2c8acc12-483b-4efb-8fd4-ee1d4b8b2cc8",
   "metadata": {
    "tags": []
   },
   "outputs": [],
   "source": [
    "# module is a file that contains functions"
   ]
  },
  {
   "cell_type": "code",
   "execution_count": 79,
   "id": "1de51de6-56b4-4a43-bf43-aa6013239965",
   "metadata": {
    "tags": []
   },
   "outputs": [],
   "source": [
    "# you can use dir(module) to find what you can do with modules"
   ]
  },
  {
   "cell_type": "code",
   "execution_count": 80,
   "id": "f3f96566-e50c-428d-a3e2-101cbed0b3e6",
   "metadata": {
    "tags": []
   },
   "outputs": [],
   "source": [
    "t1 = (\"George\", \"Costanza\", 88, 92, 2004)"
   ]
  },
  {
   "cell_type": "code",
   "execution_count": 81,
   "id": "e2519d0f-1ba3-4ef8-9c58-c8e6eb1faa44",
   "metadata": {
    "tags": []
   },
   "outputs": [
    {
     "data": {
      "text/plain": [
       "2004"
      ]
     },
     "execution_count": 81,
     "metadata": {},
     "output_type": "execute_result"
    }
   ],
   "source": [
    "t1[4]"
   ]
  },
  {
   "cell_type": "code",
   "execution_count": 82,
   "id": "ea6c5d99-06c3-44b9-87e7-e999497a786e",
   "metadata": {
    "tags": []
   },
   "outputs": [
    {
     "data": {
      "text/plain": [
       "('George', 'Costanza', 88, 92, 2004)"
      ]
     },
     "execution_count": 82,
     "metadata": {},
     "output_type": "execute_result"
    }
   ],
   "source": [
    "t1"
   ]
  },
  {
   "cell_type": "code",
   "execution_count": 83,
   "id": "13da22fb-c674-4624-9042-c152c2de41fb",
   "metadata": {
    "tags": []
   },
   "outputs": [],
   "source": [
    "t2 = (32, 34, 36, 38, 40, 42, 44)"
   ]
  },
  {
   "cell_type": "code",
   "execution_count": 84,
   "id": "5cfda91a-663d-4ccd-90de-5998b85138f9",
   "metadata": {
    "tags": []
   },
   "outputs": [],
   "source": [
    "t3 = (32, 34, 36, 38, 40, 42,[2,5,6])"
   ]
  },
  {
   "cell_type": "code",
   "execution_count": 85,
   "id": "0da9583e-0efa-4df7-b7fd-2f6b180c946e",
   "metadata": {
    "tags": []
   },
   "outputs": [],
   "source": [
    "t3[6][1]=12"
   ]
  },
  {
   "cell_type": "code",
   "execution_count": 86,
   "id": "72df9e6f-d42c-4425-84c2-1e9570d173d1",
   "metadata": {
    "tags": []
   },
   "outputs": [
    {
     "data": {
      "text/plain": [
       "(32, 34, 36, 38, 40, 42, [2, 12, 6])"
      ]
     },
     "execution_count": 86,
     "metadata": {},
     "output_type": "execute_result"
    }
   ],
   "source": [
    "t3"
   ]
  },
  {
   "cell_type": "code",
   "execution_count": 87,
   "id": "0b687e59-2eef-445d-b33a-ce6472f4f2f5",
   "metadata": {
    "tags": []
   },
   "outputs": [],
   "source": [
    "t3[6].sort()"
   ]
  },
  {
   "cell_type": "code",
   "execution_count": 88,
   "id": "668e0078-91e3-4953-b3c9-73d3c34afe5a",
   "metadata": {
    "tags": []
   },
   "outputs": [
    {
     "data": {
      "text/plain": [
       "(32, 34, 36, 38, 40, 42, [2, 6, 12])"
      ]
     },
     "execution_count": 88,
     "metadata": {},
     "output_type": "execute_result"
    }
   ],
   "source": [
    "t3"
   ]
  },
  {
   "cell_type": "code",
   "execution_count": 89,
   "id": "d1d7a4aa-3511-4923-92ff-6916ac9c5d0b",
   "metadata": {
    "tags": []
   },
   "outputs": [],
   "source": [
    "list4 = [t1,t3]"
   ]
  },
  {
   "cell_type": "code",
   "execution_count": 90,
   "id": "fea55668-94a1-45e9-bd57-c21b624dde10",
   "metadata": {
    "tags": []
   },
   "outputs": [
    {
     "data": {
      "text/plain": [
       "[('George', 'Costanza', 88, 92, 2004), (32, 34, 36, 38, 40, 42, [2, 6, 12])]"
      ]
     },
     "execution_count": 90,
     "metadata": {},
     "output_type": "execute_result"
    }
   ],
   "source": [
    "list4"
   ]
  },
  {
   "cell_type": "code",
   "execution_count": 91,
   "id": "f88a1730-8ed0-407f-bd00-8b9972d7a1b3",
   "metadata": {
    "tags": []
   },
   "outputs": [
    {
     "data": {
      "text/plain": [
       "2"
      ]
     },
     "execution_count": 91,
     "metadata": {},
     "output_type": "execute_result"
    }
   ],
   "source": [
    "list4[1][6][0]"
   ]
  },
  {
   "cell_type": "markdown",
   "id": "c2580d21-2ae8-4a52-8107-5904d0e6349c",
   "metadata": {},
   "source": [
    "### Zip function allows us to combine lists (Will Help On #4)"
   ]
  },
  {
   "cell_type": "code",
   "execution_count": 92,
   "id": "6ba2846f-b28d-4e3e-b9ff-1834576e32d3",
   "metadata": {
    "tags": []
   },
   "outputs": [],
   "source": [
    "teams = ['Bellarmine', 'Liberty', 'EKU', 'North Florida', 'Lipscomb']\n",
    "wins = [6,8,3,6,7]\n",
    "losses = [7,3,5,6,7]"
   ]
  },
  {
   "cell_type": "code",
   "execution_count": 93,
   "id": "fab9fe78-266e-4d46-a19f-f451a74a7afb",
   "metadata": {
    "tags": []
   },
   "outputs": [],
   "source": [
    "agg = []\n",
    "for team, win, loss in zip(teams, wins, losses):\n",
    "    agg.append((team, win, loss))"
   ]
  },
  {
   "cell_type": "code",
   "execution_count": 94,
   "id": "a6faa011-d107-466a-8d26-2a4d9d69c6ed",
   "metadata": {
    "tags": []
   },
   "outputs": [
    {
     "data": {
      "text/plain": [
       "[('Bellarmine', 6, 7),\n",
       " ('Liberty', 8, 3),\n",
       " ('EKU', 3, 5),\n",
       " ('North Florida', 6, 6),\n",
       " ('Lipscomb', 7, 7)]"
      ]
     },
     "execution_count": 94,
     "metadata": {},
     "output_type": "execute_result"
    }
   ],
   "source": [
    "agg"
   ]
  },
  {
   "cell_type": "code",
   "execution_count": 95,
   "id": "d5ceb067-7d0a-4b3f-b44b-638adb1059fa",
   "metadata": {
    "tags": []
   },
   "outputs": [],
   "source": [
    "#List Comp\n",
    "#[x**3 for x in range(1,100)]"
   ]
  },
  {
   "cell_type": "markdown",
   "id": "abaa58fc-2164-4e0b-89b2-0c1d6eb7f08a",
   "metadata": {},
   "source": [
    "### Genterator Expression"
   ]
  },
  {
   "cell_type": "code",
   "execution_count": 96,
   "id": "ac08cdc1-8555-40b2-8af4-231f74acf28e",
   "metadata": {
    "tags": []
   },
   "outputs": [],
   "source": [
    "def is_mod4(n):\n",
    "    return n%4==0"
   ]
  },
  {
   "cell_type": "code",
   "execution_count": 97,
   "id": "d0443615-0eb3-4a67-9a1d-ac9d93c2a2dc",
   "metadata": {
    "tags": []
   },
   "outputs": [
    {
     "name": "stdout",
     "output_type": "stream",
     "text": [
      "Is 1 a multiple of 4? False\n",
      "Is 27 a multiple of 4? False\n",
      "Is 125 a multiple of 4? False\n",
      "Is 343 a multiple of 4? False\n",
      "Is 729 a multiple of 4? False\n",
      "Is 1331 a multiple of 4? False\n",
      "Is 2197 a multiple of 4? False\n",
      "Is 3375 a multiple of 4? False\n",
      "Is 4913 a multiple of 4? False\n",
      "Is 6859 a multiple of 4? False\n",
      "Is 9261 a multiple of 4? False\n",
      "Is 12167 a multiple of 4? False\n",
      "Is 15625 a multiple of 4? False\n",
      "Is 19683 a multiple of 4? False\n",
      "Is 24389 a multiple of 4? False\n",
      "Is 29791 a multiple of 4? False\n",
      "Is 35937 a multiple of 4? False\n",
      "Is 42875 a multiple of 4? False\n",
      "Is 50653 a multiple of 4? False\n",
      "Is 59319 a multiple of 4? False\n",
      "Is 68921 a multiple of 4? False\n",
      "Is 79507 a multiple of 4? False\n",
      "Is 91125 a multiple of 4? False\n",
      "Is 103823 a multiple of 4? False\n",
      "Is 117649 a multiple of 4? False\n",
      "Is 132651 a multiple of 4? False\n",
      "Is 148877 a multiple of 4? False\n",
      "Is 166375 a multiple of 4? False\n",
      "Is 185193 a multiple of 4? False\n",
      "Is 205379 a multiple of 4? False\n",
      "Is 226981 a multiple of 4? False\n",
      "Is 250047 a multiple of 4? False\n",
      "Is 274625 a multiple of 4? False\n",
      "Is 300763 a multiple of 4? False\n",
      "Is 328509 a multiple of 4? False\n",
      "Is 357911 a multiple of 4? False\n",
      "Is 389017 a multiple of 4? False\n",
      "Is 421875 a multiple of 4? False\n",
      "Is 456533 a multiple of 4? False\n",
      "Is 493039 a multiple of 4? False\n",
      "Is 531441 a multiple of 4? False\n",
      "Is 571787 a multiple of 4? False\n",
      "Is 614125 a multiple of 4? False\n",
      "Is 658503 a multiple of 4? False\n",
      "Is 704969 a multiple of 4? False\n",
      "Is 753571 a multiple of 4? False\n",
      "Is 804357 a multiple of 4? False\n",
      "Is 857375 a multiple of 4? False\n",
      "Is 912673 a multiple of 4? False\n",
      "Is 970299 a multiple of 4? False\n"
     ]
    }
   ],
   "source": [
    "for value in (x**3 for x in range(1,100,2)):\n",
    "    print(f\"Is {value} a multiple of 4? {is_mod4(value)}\")"
   ]
  },
  {
   "cell_type": "code",
   "execution_count": 98,
   "id": "f0091434-32ea-4d1b-bf98-7ca3e98bcae4",
   "metadata": {
    "tags": []
   },
   "outputs": [],
   "source": [
    "import random"
   ]
  },
  {
   "cell_type": "code",
   "execution_count": 99,
   "id": "1af0110b-7ef5-453b-9ce8-86c5d869adb6",
   "metadata": {
    "tags": []
   },
   "outputs": [],
   "source": [
    "numbers = []\n",
    "for i in range(100):\n",
    "    numbers.append(random.randint(0,100))"
   ]
  },
  {
   "cell_type": "code",
   "execution_count": 100,
   "id": "60e0f907-1bf9-4184-981b-564794414ff5",
   "metadata": {
    "tags": []
   },
   "outputs": [
    {
     "name": "stdout",
     "output_type": "stream",
     "text": [
      "[72, 23, 95, 7, 84, 91, 83, 97, 44, 73, 27, 89, 5, 60, 45, 81, 74, 18, 78, 97, 88, 61, 2, 29, 51, 8, 40, 20, 27, 22, 72, 70, 100, 94, 54, 75, 10, 13, 6, 62, 27, 54, 22, 44, 13, 67, 22, 46, 29, 45, 2, 97, 38, 32, 78, 68, 94, 24, 7, 3, 1, 95, 81, 80, 98, 90, 54, 91, 77, 11, 12, 47, 6, 63, 37, 79, 51, 16, 66, 73, 96, 73, 50, 2, 6, 48, 99, 36, 83, 0, 9, 22, 81, 74, 24, 40, 47, 62, 76, 86] "
     ]
    }
   ],
   "source": [
    "print(numbers, end=' ')"
   ]
  },
  {
   "cell_type": "code",
   "execution_count": 101,
   "id": "1037669d-4056-4c04-82ca-58b745ec129d",
   "metadata": {
    "tags": []
   },
   "outputs": [],
   "source": [
    "import math\n",
    "def is_perfect_square(n):\n",
    "    if n<0:\n",
    "        return False\n",
    "    root = math.sqrt(n)\n",
    "    return root.is_integer()"
   ]
  },
  {
   "cell_type": "markdown",
   "id": "b2147791-7f81-457a-a843-b9d1006138fc",
   "metadata": {},
   "source": [
    "Filters work with funnction that return true/false"
   ]
  },
  {
   "cell_type": "code",
   "execution_count": 102,
   "id": "98cbafe6-0cf0-4012-8159-968f41d82048",
   "metadata": {
    "tags": []
   },
   "outputs": [
    {
     "data": {
      "text/plain": [
       "[81, 100, 1, 81, 16, 36, 0, 9, 81]"
      ]
     },
     "execution_count": 102,
     "metadata": {},
     "output_type": "execute_result"
    }
   ],
   "source": [
    "list(filter(is_perfect_square,numbers))  # creates list for verified numbers"
   ]
  },
  {
   "cell_type": "code",
   "execution_count": 103,
   "id": "10fe30e3-7805-40bb-9623-f5ecf970b4af",
   "metadata": {
    "tags": []
   },
   "outputs": [
    {
     "data": {
      "text/plain": [
       "[72,\n",
       " 84,\n",
       " 44,\n",
       " 60,\n",
       " 88,\n",
       " 8,\n",
       " 40,\n",
       " 20,\n",
       " 72,\n",
       " 100,\n",
       " 44,\n",
       " 32,\n",
       " 68,\n",
       " 24,\n",
       " 80,\n",
       " 12,\n",
       " 16,\n",
       " 96,\n",
       " 48,\n",
       " 36,\n",
       " 0,\n",
       " 24,\n",
       " 40,\n",
       " 76]"
      ]
     },
     "execution_count": 103,
     "metadata": {},
     "output_type": "execute_result"
    }
   ],
   "source": [
    "list(filter(is_mod4,numbers))  # creates list for verified numbers"
   ]
  },
  {
   "cell_type": "code",
   "execution_count": 104,
   "id": "365933b3-7767-40cb-bf79-8d3bef040eac",
   "metadata": {},
   "outputs": [],
   "source": [
    "list(filter(lambda x: x%2==0, numbers)) ;"
   ]
  },
  {
   "cell_type": "code",
   "execution_count": 105,
   "id": "9e006e79-bd87-449d-a076-0f583a58212c",
   "metadata": {},
   "outputs": [
    {
     "data": {
      "text/plain": [
       "[23,\n",
       " 7,\n",
       " 5,\n",
       " 18,\n",
       " 2,\n",
       " 8,\n",
       " 20,\n",
       " 22,\n",
       " 10,\n",
       " 13,\n",
       " 6,\n",
       " 22,\n",
       " 13,\n",
       " 22,\n",
       " 2,\n",
       " 24,\n",
       " 7,\n",
       " 3,\n",
       " 1,\n",
       " 11,\n",
       " 12,\n",
       " 6,\n",
       " 16,\n",
       " 2,\n",
       " 6,\n",
       " 0,\n",
       " 9,\n",
       " 22,\n",
       " 24]"
      ]
     },
     "execution_count": 105,
     "metadata": {},
     "output_type": "execute_result"
    }
   ],
   "source": [
    "list(filter(lambda x: math.sqrt(x)<5, numbers))"
   ]
  },
  {
   "cell_type": "code",
   "execution_count": 106,
   "id": "cece1a12-5086-4abb-94ed-f608a7b590e8",
   "metadata": {
    "tags": []
   },
   "outputs": [],
   "source": [
    "states = ['Indiana', 'Illinios', 'Ohio', 'Tennesseee', 'West Virginia', 'Virginia', 'Missouri']\n",
    "states.sort()"
   ]
  },
  {
   "cell_type": "code",
   "execution_count": 107,
   "id": "beac0a68-8f3d-4840-aab0-3cbc344de962",
   "metadata": {
    "tags": []
   },
   "outputs": [],
   "source": [
    "name_length = list(map(lambda x: len(x), states))"
   ]
  },
  {
   "cell_type": "code",
   "execution_count": 108,
   "id": "7f5b24a4-7ffa-45ca-9dfc-2270374355da",
   "metadata": {
    "tags": []
   },
   "outputs": [
    {
     "data": {
      "text/plain": [
       "[8, 7, 8, 4, 10, 8, 13]"
      ]
     },
     "execution_count": 108,
     "metadata": {},
     "output_type": "execute_result"
    }
   ],
   "source": [
    "name_length"
   ]
  },
  {
   "cell_type": "code",
   "execution_count": 109,
   "id": "a02709eb-e86d-4c61-8252-4d0f42c42433",
   "metadata": {
    "tags": []
   },
   "outputs": [],
   "source": [
    "border_states = []\n",
    "for state, length in zip(states, name_length):\n",
    "    border_states.append((state, length))"
   ]
  },
  {
   "cell_type": "code",
   "execution_count": 110,
   "id": "c9bfe016-6830-4707-92cd-fdd23299a6f4",
   "metadata": {
    "tags": []
   },
   "outputs": [
    {
     "data": {
      "text/plain": [
       "[('Illinios', 8),\n",
       " ('Indiana', 7),\n",
       " ('Missouri', 8),\n",
       " ('Ohio', 4),\n",
       " ('Tennesseee', 10),\n",
       " ('Virginia', 8),\n",
       " ('West Virginia', 13)]"
      ]
     },
     "execution_count": 110,
     "metadata": {},
     "output_type": "execute_result"
    }
   ],
   "source": [
    "border_states"
   ]
  },
  {
   "cell_type": "markdown",
   "id": "b4930e4a-1d5c-4560-a4f7-1f24d6455540",
   "metadata": {},
   "source": [
    "### Dictionary"
   ]
  },
  {
   "cell_type": "code",
   "execution_count": 111,
   "id": "2cc7bb0b-44dc-44f7-9a24-030f710fa82c",
   "metadata": {
    "tags": []
   },
   "outputs": [],
   "source": [
    "d = {\"KY\": \"Kentucky\",\n",
    "     \"IN\": \"Indiana\", \n",
    "     \"IL\": \"Illinois\",\n",
    "     \"OH\": \"Ohio\",\n",
    "     \"TN\": \"Tennessee\",\n",
    "     \"WV\": \"West Virginia\",\n",
    "     \"VA\": \"Virginia\",\n",
    "     \"MO\": \"Missouri\"\n",
    "    }\n",
    "# THESE ARE KEY VALUE PAIRS"
   ]
  },
  {
   "cell_type": "code",
   "execution_count": 112,
   "id": "9f195c13-cca7-485a-b6ff-e08cf4bac2b1",
   "metadata": {
    "tags": []
   },
   "outputs": [
    {
     "data": {
      "text/plain": [
       "'Kentucky'"
      ]
     },
     "execution_count": 112,
     "metadata": {},
     "output_type": "execute_result"
    }
   ],
   "source": [
    "d[\"KY\"]"
   ]
  },
  {
   "cell_type": "markdown",
   "id": "dc517573-917c-451a-beb2-368325deceff",
   "metadata": {},
   "source": [
    "### Sets"
   ]
  },
  {
   "cell_type": "code",
   "execution_count": 113,
   "id": "10c327f1-a849-478d-8243-7307dfe0c908",
   "metadata": {
    "tags": []
   },
   "outputs": [],
   "source": [
    "KY = {'IN','IL','WV','VA','OH','TN','MO'}"
   ]
  },
  {
   "cell_type": "code",
   "execution_count": 114,
   "id": "04a813a4-a66d-412a-bbde-e42fe213aede",
   "metadata": {
    "tags": []
   },
   "outputs": [],
   "source": [
    "TN = {'KY','VA','NC','GA','AL','MS','AR','MO'}"
   ]
  },
  {
   "cell_type": "code",
   "execution_count": 115,
   "id": "f7f8249f-23f9-4a8b-a1d4-e55d91f7ecee",
   "metadata": {
    "tags": []
   },
   "outputs": [
    {
     "name": "stdout",
     "output_type": "stream",
     "text": [
      "TN WV IL OH IN MO VA "
     ]
    }
   ],
   "source": [
    "for state in KY:\n",
    "    print(f'{state}',end=' ')"
   ]
  },
  {
   "cell_type": "code",
   "execution_count": 116,
   "id": "c7a75ac8-6500-4182-94c2-f5b9ba5e795b",
   "metadata": {
    "tags": []
   },
   "outputs": [
    {
     "data": {
      "text/plain": [
       "{'AL', 'AR', 'GA', 'IL', 'IN', 'KY', 'MO', 'MS', 'NC', 'OH', 'TN', 'VA', 'WV'}"
      ]
     },
     "execution_count": 116,
     "metadata": {},
     "output_type": "execute_result"
    }
   ],
   "source": [
    "KY | TN"
   ]
  },
  {
   "cell_type": "code",
   "execution_count": 117,
   "id": "a73459e1-9ddc-427e-a3bd-2384fce2dbc7",
   "metadata": {
    "tags": []
   },
   "outputs": [
    {
     "data": {
      "text/plain": [
       "{'AL', 'AR', 'GA', 'IL', 'IN', 'KY', 'MO', 'MS', 'NC', 'OH', 'TN', 'VA', 'WV'}"
      ]
     },
     "execution_count": 117,
     "metadata": {},
     "output_type": "execute_result"
    }
   ],
   "source": [
    "KY.union(TN)"
   ]
  },
  {
   "cell_type": "code",
   "execution_count": 118,
   "id": "617e129d-c94b-4188-a3c5-601851d6f870",
   "metadata": {
    "tags": []
   },
   "outputs": [
    {
     "data": {
      "text/plain": [
       "{'AL', 'AR', 'GA', 'IL', 'IN', 'KY', 'MS', 'NC', 'OH', 'TN', 'WV'}"
      ]
     },
     "execution_count": 118,
     "metadata": {},
     "output_type": "execute_result"
    }
   ],
   "source": [
    "KY ^ TN"
   ]
  },
  {
   "cell_type": "markdown",
   "id": "e2f32dad-f9f4-4ca0-9a59-f39a2de70595",
   "metadata": {},
   "source": [
    "### Numpy"
   ]
  },
  {
   "cell_type": "code",
   "execution_count": 1,
   "id": "ac3c3798-49ec-46af-9b49-45c2e44ddadf",
   "metadata": {
    "tags": []
   },
   "outputs": [],
   "source": [
    "import numpy as np\n",
    "from PIL import Image"
   ]
  },
  {
   "cell_type": "code",
   "execution_count": 123,
   "id": "1acfa9b4-dc7c-462e-a756-bf51d64cca73",
   "metadata": {
    "tags": []
   },
   "outputs": [],
   "source": [
    "nums = np.array([10,10,45,32,54,67])   # how to create an array"
   ]
  },
  {
   "cell_type": "code",
   "execution_count": 125,
   "id": "e6cb3af9-e94f-4982-9a2a-bfb801a6dc52",
   "metadata": {
    "tags": []
   },
   "outputs": [
    {
     "data": {
      "text/plain": [
       "dtype('int32')"
      ]
     },
     "execution_count": 125,
     "metadata": {},
     "output_type": "execute_result"
    }
   ],
   "source": [
    "nums.dtype      # how to test data type (.dtype)"
   ]
  },
  {
   "cell_type": "code",
   "execution_count": 126,
   "id": "2d8790a0-3d86-4cbc-9737-2e3474ca73ff",
   "metadata": {
    "tags": []
   },
   "outputs": [],
   "source": [
    "nums2 = np.random.randint(0,100, size=(1,10))"
   ]
  },
  {
   "cell_type": "code",
   "execution_count": 127,
   "id": "900838c9-aee0-4fe7-8971-4c7c88280168",
   "metadata": {
    "tags": []
   },
   "outputs": [
    {
     "data": {
      "text/plain": [
       "array([[15, 28, 60, 57, 46, 49, 33, 18, 80, 13]])"
      ]
     },
     "execution_count": 127,
     "metadata": {},
     "output_type": "execute_result"
    }
   ],
   "source": [
    "nums2"
   ]
  },
  {
   "cell_type": "code",
   "execution_count": 138,
   "id": "fcab9604-7c00-4e99-9113-2495a0a4af6d",
   "metadata": {
    "tags": []
   },
   "outputs": [],
   "source": [
    "num2d = np.array([[10,10,45],\n",
    "                 [5,7,3],\n",
    "                  [65,76,96]\n",
    "                 ])"
   ]
  },
  {
   "cell_type": "code",
   "execution_count": 139,
   "id": "be4b7308-6eb7-400b-986f-e355722c7af1",
   "metadata": {
    "tags": []
   },
   "outputs": [
    {
     "data": {
      "text/plain": [
       "array([[10, 10, 45],\n",
       "       [ 5,  7,  3],\n",
       "       [65, 76, 96]])"
      ]
     },
     "execution_count": 139,
     "metadata": {},
     "output_type": "execute_result"
    }
   ],
   "source": [
    "num2d"
   ]
  },
  {
   "cell_type": "code",
   "execution_count": 134,
   "id": "6818504c-c92d-44c9-9bec-40c89f6fd9a2",
   "metadata": {
    "tags": []
   },
   "outputs": [
    {
     "data": {
      "text/plain": [
       "(3, 3)"
      ]
     },
     "execution_count": 134,
     "metadata": {},
     "output_type": "execute_result"
    }
   ],
   "source": [
    "num2d.shape    # .shape says 3x3 or 2x3 etc."
   ]
  },
  {
   "cell_type": "code",
   "execution_count": 142,
   "id": "606ec2c9-a754-460e-bb44-4fc86363bcc1",
   "metadata": {
    "tags": []
   },
   "outputs": [],
   "source": [
    "num2d2 = np.random.randint(0,100, size=(3,5))"
   ]
  },
  {
   "cell_type": "code",
   "execution_count": 143,
   "id": "5af73514-1baf-4d35-900b-1201dfbc87c3",
   "metadata": {
    "tags": []
   },
   "outputs": [
    {
     "data": {
      "text/plain": [
       "array([[63, 85, 33, 69,  8],\n",
       "       [31, 23, 32, 69, 84],\n",
       "       [ 1, 30, 43, 55, 68]])"
      ]
     },
     "execution_count": 143,
     "metadata": {},
     "output_type": "execute_result"
    }
   ],
   "source": [
    "num2d2"
   ]
  },
  {
   "cell_type": "code",
   "execution_count": 146,
   "id": "4d746d96-2c42-4163-9ea5-5cc56ed6c32c",
   "metadata": {
    "tags": []
   },
   "outputs": [
    {
     "data": {
      "text/plain": [
       "15"
      ]
     },
     "execution_count": 146,
     "metadata": {},
     "output_type": "execute_result"
    }
   ],
   "source": [
    "num2d2.size    # tells number of elements"
   ]
  },
  {
   "cell_type": "code",
   "execution_count": 147,
   "id": "ca48e7cd-8c59-40c4-b619-d4dacd53cc0e",
   "metadata": {
    "tags": []
   },
   "outputs": [
    {
     "data": {
      "text/plain": [
       "4"
      ]
     },
     "execution_count": 147,
     "metadata": {},
     "output_type": "execute_result"
    }
   ],
   "source": [
    "num2d2.itemsize      # shows how many bytes"
   ]
  },
  {
   "cell_type": "code",
   "execution_count": 149,
   "id": "6ca2505e-282a-4921-bbc3-f7409ba640c6",
   "metadata": {
    "tags": []
   },
   "outputs": [
    {
     "data": {
      "text/plain": [
       "array([[0., 0., 0., 0., 0., 0., 0., 0., 0., 0.],\n",
       "       [0., 0., 0., 0., 0., 0., 0., 0., 0., 0.]])"
      ]
     },
     "execution_count": 149,
     "metadata": {},
     "output_type": "execute_result"
    }
   ],
   "source": [
    "np.zeros((2,10))"
   ]
  },
  {
   "cell_type": "code",
   "execution_count": 150,
   "id": "ed87b647-1a1a-4320-bf7a-a35b1396cd22",
   "metadata": {
    "tags": []
   },
   "outputs": [
    {
     "data": {
      "text/plain": [
       "array([[1., 1.],\n",
       "       [1., 1.],\n",
       "       [1., 1.]])"
      ]
     },
     "execution_count": 150,
     "metadata": {},
     "output_type": "execute_result"
    }
   ],
   "source": [
    "np.ones((3,2))"
   ]
  },
  {
   "cell_type": "code",
   "execution_count": 152,
   "id": "8adc31cc-9ad9-4ef5-86d8-ec2e4f25bc5c",
   "metadata": {
    "tags": []
   },
   "outputs": [
    {
     "data": {
      "text/plain": [
       "array([0, 1, 2, 3, 4])"
      ]
     },
     "execution_count": 152,
     "metadata": {},
     "output_type": "execute_result"
    }
   ],
   "source": [
    "np.arange(5)     # creates an array from 0 to n-1"
   ]
  },
  {
   "cell_type": "code",
   "execution_count": 176,
   "id": "27024bb3-28e0-476a-a40e-ac363f522bba",
   "metadata": {
    "tags": []
   },
   "outputs": [],
   "source": [
    "num3 = np.arange(0,100,2)"
   ]
  },
  {
   "cell_type": "code",
   "execution_count": 177,
   "id": "b53de200-993f-4b66-a0c5-301b09a2c10d",
   "metadata": {
    "tags": []
   },
   "outputs": [
    {
     "data": {
      "text/plain": [
       "array([ 0,  2,  4,  6,  8, 10, 12, 14, 16, 18, 20, 22, 24, 26, 28, 30, 32,\n",
       "       34, 36, 38, 40, 42, 44, 46, 48, 50, 52, 54, 56, 58, 60, 62, 64, 66,\n",
       "       68, 70, 72, 74, 76, 78, 80, 82, 84, 86, 88, 90, 92, 94, 96, 98])"
      ]
     },
     "execution_count": 177,
     "metadata": {},
     "output_type": "execute_result"
    }
   ],
   "source": [
    "num3"
   ]
  },
  {
   "cell_type": "code",
   "execution_count": 178,
   "id": "804433c1-8d65-4f67-a871-762fc5f31df1",
   "metadata": {
    "tags": []
   },
   "outputs": [
    {
     "data": {
      "text/plain": [
       "array([ 0.        ,  2.14285714,  4.28571429,  6.42857143,  8.57142857,\n",
       "       10.71428571, 12.85714286, 15.        , 17.14285714, 19.28571429,\n",
       "       21.42857143, 23.57142857, 25.71428571, 27.85714286, 30.        ])"
      ]
     },
     "execution_count": 178,
     "metadata": {},
     "output_type": "execute_result"
    }
   ],
   "source": [
    "np.linspace(0.0, 30, num=15)     # 0 is lower end point 1 is upper endpoint num=5 is total numbers evenly spaced"
   ]
  },
  {
   "cell_type": "code",
   "execution_count": 181,
   "id": "101d179f-8c15-400f-82c5-f924d9deafa7",
   "metadata": {
    "tags": []
   },
   "outputs": [],
   "source": [
    "num3 = num3.reshape(5,10)"
   ]
  },
  {
   "cell_type": "code",
   "execution_count": 182,
   "id": "0d9dee4a-4477-4f1e-9748-b2ae843bb4ed",
   "metadata": {
    "tags": []
   },
   "outputs": [
    {
     "data": {
      "text/plain": [
       "(5, 10)"
      ]
     },
     "execution_count": 182,
     "metadata": {},
     "output_type": "execute_result"
    }
   ],
   "source": [
    "num3.shape"
   ]
  },
  {
   "cell_type": "code",
   "execution_count": 184,
   "id": "a41b4d9d-ee02-4761-af90-08703461504c",
   "metadata": {
    "tags": []
   },
   "outputs": [
    {
     "data": {
      "text/plain": [
       "array([[  0,  10,  20,  30,  40,  50,  60,  70,  80,  90],\n",
       "       [100, 110, 120, 130, 140, 150, 160, 170, 180, 190],\n",
       "       [200, 210, 220, 230, 240, 250, 260, 270, 280, 290],\n",
       "       [300, 310, 320, 330, 340, 350, 360, 370, 380, 390],\n",
       "       [400, 410, 420, 430, 440, 450, 460, 470, 480, 490]])"
      ]
     },
     "execution_count": 184,
     "metadata": {},
     "output_type": "execute_result"
    }
   ],
   "source": [
    "num3 * 5       # 5 is a scaler in this scenario"
   ]
  },
  {
   "cell_type": "code",
   "execution_count": 185,
   "id": "22da5a83-d9a1-4d86-977c-a750bfb31a2a",
   "metadata": {
    "tags": []
   },
   "outputs": [
    {
     "data": {
      "text/plain": [
       "2450"
      ]
     },
     "execution_count": 185,
     "metadata": {},
     "output_type": "execute_result"
    }
   ],
   "source": [
    "num3.sum()"
   ]
  },
  {
   "cell_type": "code",
   "execution_count": 187,
   "id": "5279e615-eba0-4f9f-95c2-409a29e2369c",
   "metadata": {
    "tags": []
   },
   "outputs": [
    {
     "data": {
      "text/plain": [
       "array([[ 0,  2,  4,  6,  8, 10, 12, 14, 16, 18],\n",
       "       [20, 22, 24, 26, 28, 30, 32, 34, 36, 38],\n",
       "       [40, 42, 44, 46, 48, 50, 52, 54, 56, 58],\n",
       "       [60, 62, 64, 66, 68, 70, 72, 74, 76, 78],\n",
       "       [80, 82, 84, 86, 88, 90, 92, 94, 96, 98]])"
      ]
     },
     "execution_count": 187,
     "metadata": {},
     "output_type": "execute_result"
    }
   ],
   "source": [
    "num3"
   ]
  },
  {
   "cell_type": "code",
   "execution_count": 186,
   "id": "5f60d1b9-daeb-499e-8f94-0e846e86102b",
   "metadata": {
    "tags": []
   },
   "outputs": [
    {
     "name": "stdout",
     "output_type": "stream",
     "text": [
      "2450 49.0 28.861739379323623 833.0\n"
     ]
    }
   ],
   "source": [
    "print(num3.sum(), num3.mean(), num3.std(), num3.var())"
   ]
  },
  {
   "cell_type": "code",
   "execution_count": null,
   "id": "31459c1e-898f-4e02-ad00-44c91b385524",
   "metadata": {},
   "outputs": [],
   "source": []
  }
 ],
 "metadata": {
  "kernelspec": {
   "display_name": "Python 3 (ipykernel)",
   "language": "python",
   "name": "python3"
  },
  "language_info": {
   "codemirror_mode": {
    "name": "ipython",
    "version": 3
   },
   "file_extension": ".py",
   "mimetype": "text/x-python",
   "name": "python",
   "nbconvert_exporter": "python",
   "pygments_lexer": "ipython3",
   "version": "3.11.5"
  }
 },
 "nbformat": 4,
 "nbformat_minor": 5
}
